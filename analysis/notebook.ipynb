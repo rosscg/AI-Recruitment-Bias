{
 "cells": [
  {
   "cell_type": "code",
   "execution_count": 6,
   "metadata": {},
   "outputs": [],
   "source": [
    "import pandas as pd"
   ]
  },
  {
   "cell_type": "code",
   "execution_count": 81,
   "metadata": {},
   "outputs": [
    {
     "data": {
      "text/html": [
       "<div>\n",
       "<style scoped>\n",
       "    .dataframe tbody tr th:only-of-type {\n",
       "        vertical-align: middle;\n",
       "    }\n",
       "\n",
       "    .dataframe tbody tr th {\n",
       "        vertical-align: top;\n",
       "    }\n",
       "\n",
       "    .dataframe thead th {\n",
       "        text-align: right;\n",
       "    }\n",
       "</style>\n",
       "<table border=\"1\" class=\"dataframe\">\n",
       "  <thead>\n",
       "    <tr style=\"text-align: right;\">\n",
       "      <th></th>\n",
       "      <th>Applicant ID</th>\n",
       "      <th>Uni Ranking</th>\n",
       "      <th>Department of study</th>\n",
       "      <th>Internships</th>\n",
       "      <th>Skill Requirements met</th>\n",
       "      <th>Top 3 soft skills candidate selected from fixed list</th>\n",
       "      <th>Gender</th>\n",
       "      <th>Ethnicity</th>\n",
       "      <th>Disabled</th>\n",
       "      <th>Interviewed</th>\n",
       "      <th>Hired</th>\n",
       "    </tr>\n",
       "  </thead>\n",
       "  <tbody>\n",
       "    <tr>\n",
       "      <th>0</th>\n",
       "      <td>18672399</td>\n",
       "      <td>8</td>\n",
       "      <td>Aerospace engineering</td>\n",
       "      <td>1</td>\n",
       "      <td>Yes</td>\n",
       "      <td>Public speaking, Leadership, Work ethic</td>\n",
       "      <td>NaN</td>\n",
       "      <td>NaN</td>\n",
       "      <td>NaN</td>\n",
       "      <td>Yes</td>\n",
       "      <td>No</td>\n",
       "    </tr>\n",
       "    <tr>\n",
       "      <th>1</th>\n",
       "      <td>14550119</td>\n",
       "      <td>19</td>\n",
       "      <td>Economics</td>\n",
       "      <td>2</td>\n",
       "      <td>Yes</td>\n",
       "      <td>Critical thinking, Sales / Marketing, Flexibil...</td>\n",
       "      <td>Male</td>\n",
       "      <td>White</td>\n",
       "      <td>No</td>\n",
       "      <td>Yes</td>\n",
       "      <td>Yes</td>\n",
       "    </tr>\n",
       "    <tr>\n",
       "      <th>2</th>\n",
       "      <td>18958952</td>\n",
       "      <td>5</td>\n",
       "      <td>Computer science</td>\n",
       "      <td>3</td>\n",
       "      <td>Yes</td>\n",
       "      <td>Interpersonal skills, Flexibility / adaptabili...</td>\n",
       "      <td>Male</td>\n",
       "      <td>BME</td>\n",
       "      <td>No</td>\n",
       "      <td>Yes</td>\n",
       "      <td>Yes</td>\n",
       "    </tr>\n",
       "    <tr>\n",
       "      <th>3</th>\n",
       "      <td>11459626</td>\n",
       "      <td>14</td>\n",
       "      <td>Materials Science</td>\n",
       "      <td>4</td>\n",
       "      <td>Yes</td>\n",
       "      <td>Work ethic, Problem solving, Project management</td>\n",
       "      <td>Female</td>\n",
       "      <td>BME</td>\n",
       "      <td>No</td>\n",
       "      <td>Yes</td>\n",
       "      <td>Yes</td>\n",
       "    </tr>\n",
       "    <tr>\n",
       "      <th>4</th>\n",
       "      <td>10164676</td>\n",
       "      <td>13</td>\n",
       "      <td>Statistics</td>\n",
       "      <td>5</td>\n",
       "      <td>No</td>\n",
       "      <td>Public speaking, Emotional intelligence, Criti...</td>\n",
       "      <td>Male</td>\n",
       "      <td>BME</td>\n",
       "      <td>No</td>\n",
       "      <td>No</td>\n",
       "      <td>No</td>\n",
       "    </tr>\n",
       "  </tbody>\n",
       "</table>\n",
       "</div>"
      ],
      "text/plain": [
       "   Applicant ID  Uni Ranking    Department of study  Internships  \\\n",
       "0      18672399            8  Aerospace engineering            1   \n",
       "1      14550119           19              Economics            2   \n",
       "2      18958952            5       Computer science            3   \n",
       "3      11459626           14      Materials Science            4   \n",
       "4      10164676           13             Statistics            5   \n",
       "\n",
       "  Skill Requirements met Top 3 soft skills candidate selected from fixed list  \\\n",
       "0                    Yes            Public speaking, Leadership, Work ethic     \n",
       "1                    Yes  Critical thinking, Sales / Marketing, Flexibil...     \n",
       "2                    Yes  Interpersonal skills, Flexibility / adaptabili...     \n",
       "3                    Yes    Work ethic, Problem solving, Project management     \n",
       "4                     No  Public speaking, Emotional intelligence, Criti...     \n",
       "\n",
       "   Gender Ethnicity Disabled Interviewed Hired  \n",
       "0     NaN       NaN      NaN         Yes    No  \n",
       "1    Male     White       No         Yes   Yes  \n",
       "2    Male       BME       No         Yes   Yes  \n",
       "3  Female       BME       No         Yes   Yes  \n",
       "4    Male       BME       No          No    No  "
      ]
     },
     "execution_count": 81,
     "metadata": {},
     "output_type": "execute_result"
    }
   ],
   "source": [
    "df = pd.read_csv('../data/hiring-patterns.csv')\n",
    "#df['freq'] = df.groupby('Gender')['Gender'].transform('count')\n",
    "df.head()"
   ]
  },
  {
   "cell_type": "code",
   "execution_count": 206,
   "metadata": {},
   "outputs": [
    {
     "data": {
      "text/html": [
       "<div>\n",
       "<style scoped>\n",
       "    .dataframe tbody tr th:only-of-type {\n",
       "        vertical-align: middle;\n",
       "    }\n",
       "\n",
       "    .dataframe tbody tr th {\n",
       "        vertical-align: top;\n",
       "    }\n",
       "\n",
       "    .dataframe thead th {\n",
       "        text-align: right;\n",
       "    }\n",
       "</style>\n",
       "<table border=\"1\" class=\"dataframe\">\n",
       "  <thead>\n",
       "    <tr style=\"text-align: right;\">\n",
       "      <th></th>\n",
       "      <th>Gender</th>\n",
       "      <th>Total</th>\n",
       "      <th>interviewed</th>\n",
       "      <th>hired</th>\n",
       "    </tr>\n",
       "  </thead>\n",
       "  <tbody>\n",
       "    <tr>\n",
       "      <th>0</th>\n",
       "      <td>Female</td>\n",
       "      <td>38</td>\n",
       "      <td>13</td>\n",
       "      <td>8</td>\n",
       "    </tr>\n",
       "    <tr>\n",
       "      <th>1</th>\n",
       "      <td>Male</td>\n",
       "      <td>61</td>\n",
       "      <td>52</td>\n",
       "      <td>46</td>\n",
       "    </tr>\n",
       "  </tbody>\n",
       "</table>\n",
       "</div>"
      ],
      "text/plain": [
       "   Gender  Total  interviewed  hired\n",
       "0  Female     38           13      8\n",
       "1    Male     61           52     46"
      ]
     },
     "execution_count": 206,
     "metadata": {},
     "output_type": "execute_result"
    }
   ],
   "source": [
    "gender_not_interviewd_df = df.groupby('Gender')['Interviewed'].apply(lambda x: (x=='No').sum()).reset_index(name='dismissed')\n",
    "gender_interviewd_df = df.groupby('Gender')['Interviewed'].apply(lambda x: (x=='Yes').sum()).reset_index(name='interviewed')\n",
    "gender_hired_df = df.groupby('Gender')['Hired'].apply(lambda x: (x=='Yes').sum()).reset_index(name='hired')\n",
    "gender_df = df.groupby('Gender').count()[\"Internships\"].reset_index().join(gender_interviewd_df['interviewed']).join(gender_hired_df['hired'])\n",
    "gender_df.rename(index=str, columns={\"Internships\": \"Total\"}, inplace=True)\n",
    "\n",
    "gender_df\n"
   ]
  },
  {
   "cell_type": "code",
   "execution_count": 207,
   "metadata": {},
   "outputs": [
    {
     "data": {
      "text/html": [
       "<div>\n",
       "<style scoped>\n",
       "    .dataframe tbody tr th:only-of-type {\n",
       "        vertical-align: middle;\n",
       "    }\n",
       "\n",
       "    .dataframe tbody tr th {\n",
       "        vertical-align: top;\n",
       "    }\n",
       "\n",
       "    .dataframe thead th {\n",
       "        text-align: right;\n",
       "    }\n",
       "</style>\n",
       "<table border=\"1\" class=\"dataframe\">\n",
       "  <thead>\n",
       "    <tr style=\"text-align: right;\">\n",
       "      <th></th>\n",
       "      <th>Gender</th>\n",
       "      <th>Total</th>\n",
       "      <th>interviewed</th>\n",
       "      <th>hired</th>\n",
       "    </tr>\n",
       "  </thead>\n",
       "  <tbody>\n",
       "    <tr>\n",
       "      <th>0</th>\n",
       "      <td>Female</td>\n",
       "      <td>38</td>\n",
       "      <td>13</td>\n",
       "      <td>8</td>\n",
       "    </tr>\n",
       "    <tr>\n",
       "      <th>1</th>\n",
       "      <td>Male</td>\n",
       "      <td>61</td>\n",
       "      <td>52</td>\n",
       "      <td>46</td>\n",
       "    </tr>\n",
       "  </tbody>\n",
       "</table>\n",
       "</div>"
      ],
      "text/plain": [
       "   Gender  Total  interviewed  hired\n",
       "0  Female     38           13      8\n",
       "1    Male     61           52     46"
      ]
     },
     "execution_count": 207,
     "metadata": {},
     "output_type": "execute_result"
    }
   ],
   "source": [
    "gender_df"
   ]
  },
  {
   "cell_type": "code",
   "execution_count": 208,
   "metadata": {},
   "outputs": [
    {
     "data": {
      "text/html": [
       "<div>\n",
       "<style scoped>\n",
       "    .dataframe tbody tr th:only-of-type {\n",
       "        vertical-align: middle;\n",
       "    }\n",
       "\n",
       "    .dataframe tbody tr th {\n",
       "        vertical-align: top;\n",
       "    }\n",
       "\n",
       "    .dataframe thead th {\n",
       "        text-align: right;\n",
       "    }\n",
       "</style>\n",
       "<table border=\"1\" class=\"dataframe\">\n",
       "  <thead>\n",
       "    <tr style=\"text-align: right;\">\n",
       "      <th></th>\n",
       "      <th>Gender</th>\n",
       "      <th>Internships</th>\n",
       "    </tr>\n",
       "  </thead>\n",
       "  <tbody>\n",
       "    <tr>\n",
       "      <th>0</th>\n",
       "      <td>Female</td>\n",
       "      <td>38</td>\n",
       "    </tr>\n",
       "    <tr>\n",
       "      <th>1</th>\n",
       "      <td>Male</td>\n",
       "      <td>61</td>\n",
       "    </tr>\n",
       "  </tbody>\n",
       "</table>\n",
       "</div>"
      ],
      "text/plain": [
       "   Gender  Internships\n",
       "0  Female           38\n",
       "1    Male           61"
      ]
     },
     "execution_count": 208,
     "metadata": {},
     "output_type": "execute_result"
    }
   ],
   "source": [
    "df.groupby('Gender').count()[\"Internships\"].reset_index()"
   ]
  },
  {
   "cell_type": "code",
   "execution_count": 209,
   "metadata": {},
   "outputs": [],
   "source": [
    "gender_df['Total2']=df[\"Gender\"].value_counts()"
   ]
  },
  {
   "cell_type": "code",
   "execution_count": 210,
   "metadata": {},
   "outputs": [
    {
     "data": {
      "text/html": [
       "<div>\n",
       "<style scoped>\n",
       "    .dataframe tbody tr th:only-of-type {\n",
       "        vertical-align: middle;\n",
       "    }\n",
       "\n",
       "    .dataframe tbody tr th {\n",
       "        vertical-align: top;\n",
       "    }\n",
       "\n",
       "    .dataframe thead th {\n",
       "        text-align: right;\n",
       "    }\n",
       "</style>\n",
       "<table border=\"1\" class=\"dataframe\">\n",
       "  <thead>\n",
       "    <tr style=\"text-align: right;\">\n",
       "      <th></th>\n",
       "      <th>Gender</th>\n",
       "      <th>Total</th>\n",
       "      <th>interviewed</th>\n",
       "      <th>hired</th>\n",
       "      <th>Total2</th>\n",
       "    </tr>\n",
       "  </thead>\n",
       "  <tbody>\n",
       "    <tr>\n",
       "      <th>0</th>\n",
       "      <td>Female</td>\n",
       "      <td>38</td>\n",
       "      <td>13</td>\n",
       "      <td>8</td>\n",
       "      <td>NaN</td>\n",
       "    </tr>\n",
       "    <tr>\n",
       "      <th>1</th>\n",
       "      <td>Male</td>\n",
       "      <td>61</td>\n",
       "      <td>52</td>\n",
       "      <td>46</td>\n",
       "      <td>NaN</td>\n",
       "    </tr>\n",
       "  </tbody>\n",
       "</table>\n",
       "</div>"
      ],
      "text/plain": [
       "   Gender  Total  interviewed  hired  Total2\n",
       "0  Female     38           13      8     NaN\n",
       "1    Male     61           52     46     NaN"
      ]
     },
     "execution_count": 210,
     "metadata": {},
     "output_type": "execute_result"
    }
   ],
   "source": [
    "gender_df"
   ]
  },
  {
   "cell_type": "code",
   "execution_count": 211,
   "metadata": {},
   "outputs": [
    {
     "data": {
      "text/plain": [
       "Uni Ranking\n",
       "1     4\n",
       "2     4\n",
       "3     4\n",
       "4     2\n",
       "5     2\n",
       "6     3\n",
       "7     2\n",
       "8     3\n",
       "9     3\n",
       "10    3\n",
       "11    1\n",
       "12    6\n",
       "13    4\n",
       "14    8\n",
       "15    3\n",
       "16    0\n",
       "17    3\n",
       "18    3\n",
       "19    4\n",
       "20    2\n",
       "21    2\n",
       "22    6\n",
       "23    4\n",
       "24    1\n",
       "25    3\n",
       "Name: Hired, dtype: int64"
      ]
     },
     "execution_count": 211,
     "metadata": {},
     "output_type": "execute_result"
    }
   ],
   "source": [
    "df.groupby('Uni Ranking')['Hired'].apply(lambda x: (x=='Yes').sum())\n",
    "\n"
   ]
  },
  {
   "cell_type": "code",
   "execution_count": 212,
   "metadata": {},
   "outputs": [],
   "source": [
    "gender_df['ratio-interviewed'] = gender_df['interviewed']/gender_df['Total']\n",
    "gender_df['ratio-hired'] = gender_df['hired']/gender_df['interviewed']"
   ]
  },
  {
   "cell_type": "code",
   "execution_count": 213,
   "metadata": {},
   "outputs": [
    {
     "data": {
      "text/html": [
       "<div>\n",
       "<style scoped>\n",
       "    .dataframe tbody tr th:only-of-type {\n",
       "        vertical-align: middle;\n",
       "    }\n",
       "\n",
       "    .dataframe tbody tr th {\n",
       "        vertical-align: top;\n",
       "    }\n",
       "\n",
       "    .dataframe thead th {\n",
       "        text-align: right;\n",
       "    }\n",
       "</style>\n",
       "<table border=\"1\" class=\"dataframe\">\n",
       "  <thead>\n",
       "    <tr style=\"text-align: right;\">\n",
       "      <th></th>\n",
       "      <th>Gender</th>\n",
       "      <th>Total</th>\n",
       "      <th>interviewed</th>\n",
       "      <th>hired</th>\n",
       "      <th>Total2</th>\n",
       "      <th>ratio-interviewed</th>\n",
       "      <th>ratio-hired</th>\n",
       "    </tr>\n",
       "  </thead>\n",
       "  <tbody>\n",
       "    <tr>\n",
       "      <th>0</th>\n",
       "      <td>Female</td>\n",
       "      <td>38</td>\n",
       "      <td>13</td>\n",
       "      <td>8</td>\n",
       "      <td>NaN</td>\n",
       "      <td>0.342105</td>\n",
       "      <td>0.615385</td>\n",
       "    </tr>\n",
       "    <tr>\n",
       "      <th>1</th>\n",
       "      <td>Male</td>\n",
       "      <td>61</td>\n",
       "      <td>52</td>\n",
       "      <td>46</td>\n",
       "      <td>NaN</td>\n",
       "      <td>0.852459</td>\n",
       "      <td>0.884615</td>\n",
       "    </tr>\n",
       "  </tbody>\n",
       "</table>\n",
       "</div>"
      ],
      "text/plain": [
       "   Gender  Total  interviewed  hired  Total2  ratio-interviewed  ratio-hired\n",
       "0  Female     38           13      8     NaN           0.342105     0.615385\n",
       "1    Male     61           52     46     NaN           0.852459     0.884615"
      ]
     },
     "execution_count": 213,
     "metadata": {},
     "output_type": "execute_result"
    }
   ],
   "source": [
    "gender_df"
   ]
  },
  {
   "cell_type": "code",
   "execution_count": 214,
   "metadata": {},
   "outputs": [],
   "source": [
    "#gender_df.set_index('Gender')"
   ]
  },
  {
   "cell_type": "code",
   "execution_count": 246,
   "metadata": {},
   "outputs": [
    {
     "data": {
      "text/plain": [
       "0.40131578947368424"
      ]
     },
     "execution_count": 246,
     "metadata": {},
     "output_type": "execute_result"
    }
   ],
   "source": [
    "a = gender_df.loc[gender_df['Gender'] == 'Female']['ratio-interviewed'].values[0] / gender_df.loc[gender_df['Gender'] == 'Male']['ratio-interviewed'].values[0]\n",
    "a"
   ]
  },
  {
   "cell_type": "code",
   "execution_count": 247,
   "metadata": {},
   "outputs": [
    {
     "data": {
      "text/plain": [
       "0.6956521739130436"
      ]
     },
     "execution_count": 247,
     "metadata": {},
     "output_type": "execute_result"
    }
   ],
   "source": [
    "a = gender_df.loc[gender_df['Gender'] == 'Female']['ratio-hired'].values[0] / gender_df.loc[gender_df['Gender'] == 'Male']['ratio-hired'].values[0]\n",
    "a"
   ]
  },
  {
   "cell_type": "code",
   "execution_count": 242,
   "metadata": {},
   "outputs": [
    {
     "data": {
      "text/plain": [
       "array([65])"
      ]
     },
     "execution_count": 242,
     "metadata": {},
     "output_type": "execute_result"
    }
   ],
   "source": [
    "a = gender_df.loc[gender_df['Gender'] == 'Female']['ratio-hired'].values[0] / gender_df.loc[gender_df['Gender'] == 'Male']['ratio-hired'].values[0]\n",
    "a"
   ]
  },
  {
   "cell_type": "code",
   "execution_count": 269,
   "metadata": {},
   "outputs": [
    {
     "data": {
      "text/plain": [
       "Uni Ranking\n",
       "1     6\n",
       "2     8\n",
       "3     6\n",
       "4     5\n",
       "5     7\n",
       "6     7\n",
       "7     2\n",
       "8     6\n",
       "9     3\n",
       "10    8\n",
       "11    3\n",
       "12    8\n",
       "13    8\n",
       "14    9\n",
       "15    7\n",
       "16    1\n",
       "17    5\n",
       "18    7\n",
       "19    5\n",
       "20    7\n",
       "21    7\n",
       "22    7\n",
       "23    6\n",
       "24    5\n",
       "25    7\n",
       "Name: Applicant ID, dtype: int64"
      ]
     },
     "execution_count": 269,
     "metadata": {},
     "output_type": "execute_result"
    }
   ],
   "source": [
    "df.groupby('Uni Ranking').count()['Applicant ID']"
   ]
  },
  {
   "cell_type": "code",
   "execution_count": 273,
   "metadata": {},
   "outputs": [
    {
     "data": {
      "text/plain": [
       "Uni Ranking\n",
       "1     4\n",
       "2     4\n",
       "3     4\n",
       "4     2\n",
       "5     2\n",
       "6     3\n",
       "7     2\n",
       "8     3\n",
       "9     3\n",
       "10    3\n",
       "11    1\n",
       "12    6\n",
       "13    4\n",
       "14    8\n",
       "15    3\n",
       "16    0\n",
       "17    3\n",
       "18    3\n",
       "19    4\n",
       "20    2\n",
       "21    2\n",
       "22    6\n",
       "23    4\n",
       "24    1\n",
       "25    3\n",
       "Name: Hired, dtype: int64"
      ]
     },
     "execution_count": 273,
     "metadata": {},
     "output_type": "execute_result"
    }
   ],
   "source": [
    "df.groupby('Uni Ranking')['Hired'].apply(lambda x: (x=='Yes').sum())"
   ]
  },
  {
   "cell_type": "code",
   "execution_count": 274,
   "metadata": {},
   "outputs": [
    {
     "data": {
      "text/plain": [
       "Uni Ranking\n",
       "1     0.666667\n",
       "2     0.500000\n",
       "3     0.666667\n",
       "4     0.400000\n",
       "5     0.285714\n",
       "6     0.428571\n",
       "7     1.000000\n",
       "8     0.500000\n",
       "9     1.000000\n",
       "10    0.375000\n",
       "11    0.333333\n",
       "12    0.750000\n",
       "13    0.500000\n",
       "14    0.888889\n",
       "15    0.428571\n",
       "16    0.000000\n",
       "17    0.600000\n",
       "18    0.428571\n",
       "19    0.800000\n",
       "20    0.285714\n",
       "21    0.285714\n",
       "22    0.857143\n",
       "23    0.666667\n",
       "24    0.200000\n",
       "25    0.428571\n",
       "dtype: float64"
      ]
     },
     "execution_count": 274,
     "metadata": {},
     "output_type": "execute_result"
    }
   ],
   "source": [
    "df.groupby('Uni Ranking')['Hired'].apply(lambda x: (x=='Yes').sum())/df.groupby('Uni Ranking').count()['Applicant ID']"
   ]
  },
  {
   "cell_type": "code",
   "execution_count": null,
   "metadata": {},
   "outputs": [],
   "source": []
  }
 ],
 "metadata": {
  "kernelspec": {
   "display_name": "Python 3",
   "language": "python",
   "name": "python3"
  },
  "language_info": {
   "codemirror_mode": {
    "name": "ipython",
    "version": 3
   },
   "file_extension": ".py",
   "mimetype": "text/x-python",
   "name": "python",
   "nbconvert_exporter": "python",
   "pygments_lexer": "ipython3",
   "version": "3.7.1"
  }
 },
 "nbformat": 4,
 "nbformat_minor": 2
}
